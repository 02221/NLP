{
 "cells": [
  {
   "cell_type": "markdown",
   "metadata": {},
   "source": [
    "# Reference  \n",
    "  \n",
    "## Code  \n",
    "https://www.youtube.com/watch?v=szv7MCSAxaQ  \n",
    "  \n",
    "## Info  \n",
    "1.나무위키: https://namu.wiki/w/%EC%96%91%EC%95%88%EA%B4%80%EA%B3%84  \n",
    "2.우크라이나사태와 비교: https://www.emerics.org:446/issueInfoView.es?article_id=46013&mid=a20200000000&board_id=4&search_option=&search_keyword=&search_year=&search_month=&currentPage=1&pageCnt=10  \n",
    "3.우크라이나사태와 비교2:  https://www.etoday.co.kr/news/view/2121089  \n",
    "4.대만전쟁 후폭풍: https://m.hankookilbo.com/News/Read/A2022060210390000927  \n",
    "5.대만가권: https://blog.naver.com/kiwimat0906/222353483327  \n",
    "6.중국주가지수: https://blog.naver.com/juun41/221760626641  "
   ]
  },
  {
   "cell_type": "code",
   "execution_count": 1,
   "metadata": {
    "scrolled": true
   },
   "outputs": [],
   "source": [
    "import time\n",
    "import pyautogui\n",
    "import pyperclip\n",
    "import cv2"
   ]
  },
  {
   "cell_type": "code",
   "execution_count": 2,
   "metadata": {},
   "outputs": [],
   "source": [
    "def imgClick(filename, t):\n",
    "    '''\n",
    "    filename에 \"test.png\"와 같이 이미지 파일을 입력하고, t초를 대기하는 함수\n",
    "    \n",
    "    '''\n",
    "    imgfile = pyautogui.locateOnScreen(filename, confidence=0.7)\n",
    "    center = pyautogui.center(imgfile)\n",
    "    pyautogui.moveTo(center)\n",
    "    pyautogui.click(center)\n",
    "    time.sleep(t)\n",
    "    "
   ]
  },
  {
   "cell_type": "code",
   "execution_count": 3,
   "metadata": {},
   "outputs": [],
   "source": [
    "def scroll(line):\n",
    "    '''\n",
    "    아래로 스크롤: - \n",
    "    위로 스크롤: +\n",
    "    '''\n",
    "    time.sleep(0.5)\n",
    "    pyautogui.scroll(line)\n",
    "    time.sleep(0.5)\n",
    "    "
   ]
  },
  {
   "cell_type": "code",
   "execution_count": 4,
   "metadata": {},
   "outputs": [],
   "source": [
    "keywords = [\"((긴장) OR (위기) OR (갈등)) AND ((대만) AND (중국))\"]"
   ]
  },
  {
   "cell_type": "code",
   "execution_count": 5,
   "metadata": {},
   "outputs": [],
   "source": [
    "time.sleep(1)\n",
    "\n",
    "for keyword in keywords:\n",
    "    \n",
    "    #1. 검색어 창을 클릭해서 검색어 입력\n",
    "    imgClick('search_bar.png', 0.2)\n",
    "    pyautogui.hotkey('ctrl', 'a')\n",
    "    pyautogui.press('delete')\n",
    "    pyperclip.copy(keyword)\n",
    "    pyautogui.hotkey('ctrl', 'v')\n",
    "    \n",
    "    #2. 스크롤을 내려서 검색 버튼 클릭\n",
    "    while True:\n",
    "        try:\n",
    "            imgClick('search_btn.png', 5)\n",
    "            break\n",
    "        except:\n",
    "            scroll(-300)\n",
    "            \n",
    "    #3. 검색 후 스크롤 내려서 스텝3 탭을 클릭\n",
    "    while True:\n",
    "        try:\n",
    "            imgClick('step3.png', 3)\n",
    "            break\n",
    "        except:\n",
    "            scroll(-300)\n",
    "            \n",
    "    #4. 목록이 열리면 엑셀 다운로드 버튼 클릭\n",
    "    while True:\n",
    "        try:\n",
    "            imgClick('excel.png', 3)\n",
    "            break\n",
    "        except:\n",
    "            scroll(-300)\n",
    "            \n",
    "#     #5. 다운로드 창 닫고 브라우저 초기화\n",
    "#     while True:\n",
    "#         try:\n",
    "#             imgClick('x.png', 0.1)\n",
    "#             break\n",
    "#         except:\n",
    "#             time.sleep(1)\n",
    "            \n",
    "#     pyautogui.press('home')\n",
    "#     time.sleep(1)\n",
    "    "
   ]
  },
  {
   "cell_type": "code",
   "execution_count": null,
   "metadata": {},
   "outputs": [],
   "source": []
  }
 ],
 "metadata": {
  "kernelspec": {
   "display_name": "Python 3",
   "language": "python",
   "name": "python3"
  },
  "language_info": {
   "codemirror_mode": {
    "name": "ipython",
    "version": 3
   },
   "file_extension": ".py",
   "mimetype": "text/x-python",
   "name": "python",
   "nbconvert_exporter": "python",
   "pygments_lexer": "ipython3",
   "version": "3.7.3"
  }
 },
 "nbformat": 4,
 "nbformat_minor": 2
}
